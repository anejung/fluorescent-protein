{
  "nbformat": 4,
  "nbformat_minor": 0,
  "metadata": {
    "colab": {
      "provenance": [],
      "authorship_tag": "ABX9TyO5KJG5A3wcXIPox71/Hht/",
      "include_colab_link": true
    },
    "kernelspec": {
      "name": "python3",
      "display_name": "Python 3"
    },
    "language_info": {
      "name": "python"
    }
  },
  "cells": [
    {
      "cell_type": "markdown",
      "metadata": {
        "id": "view-in-github",
        "colab_type": "text"
      },
      "source": [
        "<a href=\"https://colab.research.google.com/github/anejung/fluorescent-protein/blob/main/visual_phylogenetic_tree.ipynb\" target=\"_parent\"><img src=\"https://colab.research.google.com/assets/colab-badge.svg\" alt=\"Open In Colab\"/></a>"
      ]
    },
    {
      "cell_type": "code",
      "source": [
        "!pip install biopython\n",
        "!apt-get install -y clustalo\n"
      ],
      "metadata": {
        "colab": {
          "base_uri": "https://localhost:8080/"
        },
        "id": "mHCgH3mhv26j",
        "outputId": "44f31374-d102-4053-a7f3-d611f4416f44"
      },
      "execution_count": 6,
      "outputs": [
        {
          "output_type": "stream",
          "name": "stdout",
          "text": [
            "Requirement already satisfied: biopython in /usr/local/lib/python3.11/dist-packages (1.85)\n",
            "Requirement already satisfied: numpy in /usr/local/lib/python3.11/dist-packages (from biopython) (2.0.2)\n",
            "Reading package lists... Done\n",
            "Building dependency tree... Done\n",
            "Reading state information... Done\n",
            "clustalo is already the newest version (1.2.4-7).\n",
            "0 upgraded, 0 newly installed, 0 to remove and 35 not upgraded.\n"
          ]
        }
      ]
    },
    {
      "cell_type": "code",
      "source": [
        "from google.colab import files\n",
        "uploaded = files.upload()\n",
        "\n"
      ],
      "metadata": {
        "colab": {
          "base_uri": "https://localhost:8080/",
          "height": 74
        },
        "id": "9TVn02a_v6Eo",
        "outputId": "0cfe19b9-713c-48d3-fb4b-7c50cca0636d"
      },
      "execution_count": 9,
      "outputs": [
        {
          "output_type": "display_data",
          "data": {
            "text/plain": [
              "<IPython.core.display.HTML object>"
            ],
            "text/html": [
              "\n",
              "     <input type=\"file\" id=\"files-93677321-57d6-4b98-b209-e08880e4ed8c\" name=\"files[]\" multiple disabled\n",
              "        style=\"border:none\" />\n",
              "     <output id=\"result-93677321-57d6-4b98-b209-e08880e4ed8c\">\n",
              "      Upload widget is only available when the cell has been executed in the\n",
              "      current browser session. Please rerun this cell to enable.\n",
              "      </output>\n",
              "      <script>// Copyright 2017 Google LLC\n",
              "//\n",
              "// Licensed under the Apache License, Version 2.0 (the \"License\");\n",
              "// you may not use this file except in compliance with the License.\n",
              "// You may obtain a copy of the License at\n",
              "//\n",
              "//      http://www.apache.org/licenses/LICENSE-2.0\n",
              "//\n",
              "// Unless required by applicable law or agreed to in writing, software\n",
              "// distributed under the License is distributed on an \"AS IS\" BASIS,\n",
              "// WITHOUT WARRANTIES OR CONDITIONS OF ANY KIND, either express or implied.\n",
              "// See the License for the specific language governing permissions and\n",
              "// limitations under the License.\n",
              "\n",
              "/**\n",
              " * @fileoverview Helpers for google.colab Python module.\n",
              " */\n",
              "(function(scope) {\n",
              "function span(text, styleAttributes = {}) {\n",
              "  const element = document.createElement('span');\n",
              "  element.textContent = text;\n",
              "  for (const key of Object.keys(styleAttributes)) {\n",
              "    element.style[key] = styleAttributes[key];\n",
              "  }\n",
              "  return element;\n",
              "}\n",
              "\n",
              "// Max number of bytes which will be uploaded at a time.\n",
              "const MAX_PAYLOAD_SIZE = 100 * 1024;\n",
              "\n",
              "function _uploadFiles(inputId, outputId) {\n",
              "  const steps = uploadFilesStep(inputId, outputId);\n",
              "  const outputElement = document.getElementById(outputId);\n",
              "  // Cache steps on the outputElement to make it available for the next call\n",
              "  // to uploadFilesContinue from Python.\n",
              "  outputElement.steps = steps;\n",
              "\n",
              "  return _uploadFilesContinue(outputId);\n",
              "}\n",
              "\n",
              "// This is roughly an async generator (not supported in the browser yet),\n",
              "// where there are multiple asynchronous steps and the Python side is going\n",
              "// to poll for completion of each step.\n",
              "// This uses a Promise to block the python side on completion of each step,\n",
              "// then passes the result of the previous step as the input to the next step.\n",
              "function _uploadFilesContinue(outputId) {\n",
              "  const outputElement = document.getElementById(outputId);\n",
              "  const steps = outputElement.steps;\n",
              "\n",
              "  const next = steps.next(outputElement.lastPromiseValue);\n",
              "  return Promise.resolve(next.value.promise).then((value) => {\n",
              "    // Cache the last promise value to make it available to the next\n",
              "    // step of the generator.\n",
              "    outputElement.lastPromiseValue = value;\n",
              "    return next.value.response;\n",
              "  });\n",
              "}\n",
              "\n",
              "/**\n",
              " * Generator function which is called between each async step of the upload\n",
              " * process.\n",
              " * @param {string} inputId Element ID of the input file picker element.\n",
              " * @param {string} outputId Element ID of the output display.\n",
              " * @return {!Iterable<!Object>} Iterable of next steps.\n",
              " */\n",
              "function* uploadFilesStep(inputId, outputId) {\n",
              "  const inputElement = document.getElementById(inputId);\n",
              "  inputElement.disabled = false;\n",
              "\n",
              "  const outputElement = document.getElementById(outputId);\n",
              "  outputElement.innerHTML = '';\n",
              "\n",
              "  const pickedPromise = new Promise((resolve) => {\n",
              "    inputElement.addEventListener('change', (e) => {\n",
              "      resolve(e.target.files);\n",
              "    });\n",
              "  });\n",
              "\n",
              "  const cancel = document.createElement('button');\n",
              "  inputElement.parentElement.appendChild(cancel);\n",
              "  cancel.textContent = 'Cancel upload';\n",
              "  const cancelPromise = new Promise((resolve) => {\n",
              "    cancel.onclick = () => {\n",
              "      resolve(null);\n",
              "    };\n",
              "  });\n",
              "\n",
              "  // Wait for the user to pick the files.\n",
              "  const files = yield {\n",
              "    promise: Promise.race([pickedPromise, cancelPromise]),\n",
              "    response: {\n",
              "      action: 'starting',\n",
              "    }\n",
              "  };\n",
              "\n",
              "  cancel.remove();\n",
              "\n",
              "  // Disable the input element since further picks are not allowed.\n",
              "  inputElement.disabled = true;\n",
              "\n",
              "  if (!files) {\n",
              "    return {\n",
              "      response: {\n",
              "        action: 'complete',\n",
              "      }\n",
              "    };\n",
              "  }\n",
              "\n",
              "  for (const file of files) {\n",
              "    const li = document.createElement('li');\n",
              "    li.append(span(file.name, {fontWeight: 'bold'}));\n",
              "    li.append(span(\n",
              "        `(${file.type || 'n/a'}) - ${file.size} bytes, ` +\n",
              "        `last modified: ${\n",
              "            file.lastModifiedDate ? file.lastModifiedDate.toLocaleDateString() :\n",
              "                                    'n/a'} - `));\n",
              "    const percent = span('0% done');\n",
              "    li.appendChild(percent);\n",
              "\n",
              "    outputElement.appendChild(li);\n",
              "\n",
              "    const fileDataPromise = new Promise((resolve) => {\n",
              "      const reader = new FileReader();\n",
              "      reader.onload = (e) => {\n",
              "        resolve(e.target.result);\n",
              "      };\n",
              "      reader.readAsArrayBuffer(file);\n",
              "    });\n",
              "    // Wait for the data to be ready.\n",
              "    let fileData = yield {\n",
              "      promise: fileDataPromise,\n",
              "      response: {\n",
              "        action: 'continue',\n",
              "      }\n",
              "    };\n",
              "\n",
              "    // Use a chunked sending to avoid message size limits. See b/62115660.\n",
              "    let position = 0;\n",
              "    do {\n",
              "      const length = Math.min(fileData.byteLength - position, MAX_PAYLOAD_SIZE);\n",
              "      const chunk = new Uint8Array(fileData, position, length);\n",
              "      position += length;\n",
              "\n",
              "      const base64 = btoa(String.fromCharCode.apply(null, chunk));\n",
              "      yield {\n",
              "        response: {\n",
              "          action: 'append',\n",
              "          file: file.name,\n",
              "          data: base64,\n",
              "        },\n",
              "      };\n",
              "\n",
              "      let percentDone = fileData.byteLength === 0 ?\n",
              "          100 :\n",
              "          Math.round((position / fileData.byteLength) * 100);\n",
              "      percent.textContent = `${percentDone}% done`;\n",
              "\n",
              "    } while (position < fileData.byteLength);\n",
              "  }\n",
              "\n",
              "  // All done.\n",
              "  yield {\n",
              "    response: {\n",
              "      action: 'complete',\n",
              "    }\n",
              "  };\n",
              "}\n",
              "\n",
              "scope.google = scope.google || {};\n",
              "scope.google.colab = scope.google.colab || {};\n",
              "scope.google.colab._files = {\n",
              "  _uploadFiles,\n",
              "  _uploadFilesContinue,\n",
              "};\n",
              "})(self);\n",
              "</script> "
            ]
          },
          "metadata": {}
        },
        {
          "output_type": "stream",
          "name": "stdout",
          "text": [
            "Saving fluorescent_proteins.fasta to fluorescent_proteins.fasta\n"
          ]
        }
      ]
    },
    {
      "cell_type": "code",
      "source": [
        "!ls -l fluorescent_proteins.fasta\n"
      ],
      "metadata": {
        "colab": {
          "base_uri": "https://localhost:8080/"
        },
        "id": "V1CUz2Gnv_Nz",
        "outputId": "2fabc529-e892-4dba-d4a5-229a060388e1"
      },
      "execution_count": 10,
      "outputs": [
        {
          "output_type": "stream",
          "name": "stdout",
          "text": [
            "-rw-r--r-- 1 root root 1234 Jul 27 16:38 fluorescent_proteins.fasta\n"
          ]
        }
      ]
    },
    {
      "cell_type": "code",
      "source": [
        "from Bio.Align.Applications import ClustalOmegaCommandline\n",
        "\n",
        "in_file = \"fluorescent_proteins.fasta\"\n",
        "aligned_file = \"aligned.aln\"\n",
        "\n",
        "clustalomega_cline = ClustalOmegaCommandline(infile=in_file, outfile=aligned_file, verbose=True, auto=True, outfmt=\"clustal\")\n",
        "stdout, stderr = clustalomega_cline()\n",
        "\n",
        "print(\"Alignment finished.\")\n"
      ],
      "metadata": {
        "colab": {
          "base_uri": "https://localhost:8080/"
        },
        "id": "GklcpQOYwI99",
        "outputId": "31d72273-4730-499a-d22f-4e15577c2835"
      },
      "execution_count": 11,
      "outputs": [
        {
          "output_type": "stream",
          "name": "stdout",
          "text": [
            "Alignment finished.\n"
          ]
        }
      ]
    },
    {
      "cell_type": "code",
      "source": [
        "from Bio import AlignIO\n",
        "\n",
        "alignment = AlignIO.read(aligned_file, \"clustal\")\n",
        "print(alignment)\n",
        "print(f\"Number of sequences aligned: {len(alignment)}\")\n"
      ],
      "metadata": {
        "colab": {
          "base_uri": "https://localhost:8080/"
        },
        "id": "pAgAgdpFwMyT",
        "outputId": "9c8dca16-9e94-41cb-f316-7b0f821b1c43"
      },
      "execution_count": 12,
      "outputs": [
        {
          "output_type": "stream",
          "name": "stdout",
          "text": [
            "Alignment with 5 rows and 241 columns\n",
            "MVSKGEELFTGVVPILVELDGD--VNGHKFSVSGEGEGDATYGK...LYK EGFP\n",
            "MVSKGEELFTGVVPILVELDGD--VNGHKFSVRGEGEGDATYGK...LYK EYFP\n",
            "MVSKGEELFTGVVPILVELDGD--VNGHKFSVRGEGEGDATYGK...LYK Venus\n",
            "MVSKGEELFTGVVPILVELDGD--VNGHKFSVRGEGEGDATYGK...LYK YPet\n",
            "-MSKGEELIKENMHMKLYMEGTVDHGAHTFSVRGEGEGDATYGK...LYK phiYFP\n",
            "Number of sequences aligned: 5\n"
          ]
        }
      ]
    },
    {
      "cell_type": "code",
      "source": [
        "from Bio.Phylo.TreeConstruction import DistanceCalculator, DistanceTreeConstructor\n",
        "from Bio import Phylo\n",
        "import matplotlib.pyplot as plt\n",
        "\n",
        "calculator = DistanceCalculator(\"identity\")\n",
        "dm = calculator.get_distance(alignment)\n",
        "\n",
        "constructor = DistanceTreeConstructor()\n",
        "tree = constructor.upgma(dm)\n",
        "\n",
        "\n",
        "import matplotlib.pyplot as plt\n",
        "from Bio import Phylo\n",
        "\n",
        "def draw_tree_readable(tree):\n",
        "    fig = plt.figure(figsize=(12, 8))\n",
        "    ax = fig.add_subplot(1, 1, 1)\n",
        "\n",
        "    def label_func(node):\n",
        "        if node.is_terminal():  # แสดงชื่อเฉพาะ leaf node\n",
        "            return node.name\n",
        "        else:\n",
        "            return None  # ซ่อนชื่อ internal nodes\n",
        "\n",
        "    Phylo.draw(tree, axes=ax, do_show=False, branch_labels=None, label_func=label_func)\n",
        "    plt.tight_layout()\n",
        "    plt.show()\n",
        "\n",
        "draw_tree_readable(tree)\n"
      ],
      "metadata": {
        "colab": {
          "base_uri": "https://localhost:8080/",
          "height": 623
        },
        "id": "V5IeP-9vwQ0p",
        "outputId": "10fc5363-2e7d-4b4f-db2a-4f8ef8d46337"
      },
      "execution_count": 22,
      "outputs": [
        {
          "output_type": "display_data",
          "data": {
            "text/plain": [
              "<Figure size 1200x800 with 1 Axes>"
            ],
            "image/png": "[encoded data removed]"
          },
          "metadata": {}
        }
      ]
    },
    {
      "cell_type": "code",
      "source": [
        "import numpy as np\n",
        "\n",
        "def distance_matrix_to_full(dm):\n",
        "    n = len(dm.names)\n",
        "    full = np.zeros((n, n))\n",
        "    for i in range(n):\n",
        "        for j in range(i+1, n):\n",
        "            dist = float(dm[i, j])\n",
        "            full[i, j] = dist\n",
        "            full[j, i] = dist\n",
        "    return full\n",
        "\n",
        "names = dm.names\n",
        "distance_matrix = distance_matrix_to_full(dm)\n",
        "similarity_matrix = 1 - distance_matrix\n",
        "\n",
        "idx_egfp = names.index(\"EGFP\")\n",
        "sim_to_egfp = similarity_matrix[idx_egfp]\n",
        "\n",
        "for name, sim in zip(names, sim_to_egfp):\n",
        "    print(f\"{name} similarity to EGFP: {sim*100:.2f}%\")\n",
        "\n",
        "sorted_sim = sorted([(name, sim) for name, sim in zip(names, sim_to_egfp) if name != \"EGFP\"],\n",
        "                    key=lambda x: x[1], reverse=True)\n",
        "\n",
        "print(\"\\nTop closest proteins to EGFP:\")\n",
        "for name, sim in sorted_sim:\n",
        "    print(f\"{name}: {sim*100:.2f}% similarity\")\n"
      ],
      "metadata": {
        "colab": {
          "base_uri": "https://localhost:8080/"
        },
        "id": "K9NinfqCx738",
        "outputId": "cf94ebda-79fc-4f61-e467-fd53ee971b51"
      },
      "execution_count": 26,
      "outputs": [
        {
          "output_type": "stream",
          "name": "stdout",
          "text": [
            "EGFP similarity to EGFP: 100.00%\n",
            "EYFP similarity to EGFP: 98.76%\n",
            "Venus similarity to EGFP: 98.76%\n",
            "YPet similarity to EGFP: 98.76%\n",
            "phiYFP similarity to EGFP: 87.55%\n",
            "\n",
            "Top closest proteins to EGFP:\n",
            "EYFP: 98.76% similarity\n",
            "Venus: 98.76% similarity\n",
            "YPet: 98.76% similarity\n",
            "phiYFP: 87.55% similarity\n"
          ]
        }
      ]
    },
    {
      "cell_type": "code",
      "source": [
        "import numpy as np\n",
        "\n",
        "# ฟังก์ชันนี้แปลง DistanceMatrix ของ Biopython ซึ่งเก็บเฉพาะครึ่งบนของเมทริกซ์\n",
        "# ให้เป็นเมทริกซ์ระยะห่างแบบเต็ม (symmetric matrix) เพื่อใช้งานต่อได้ง่าย\n",
        "def distance_matrix_to_full(dm):\n",
        "    n = len(dm.names)  # จำนวนโปรตีนในเมทริกซ์\n",
        "    full = np.zeros((n, n))  # สร้างเมทริกซ์เต็มขนาด n x n ด้วยศูนย์\n",
        "    for i in range(n):\n",
        "        for j in range(i+1, n):\n",
        "            dist = float(dm[i, j])  # ดึงค่าระยะห่างจากครึ่งบนของเมทริกซ์\n",
        "            full[i, j] = dist       # กำหนดค่าที่ตำแหน่ง (i, j)\n",
        "            full[j, i] = dist       # เติมค่าที่ตำแหน่ง (j, i) ให้เมทริกซ์สมมาตร\n",
        "    return full\n",
        "\n",
        "names = dm.names  # รายชื่อโปรตีนเรียงตามลำดับในเมทริกซ์\n",
        "\n",
        "distance_matrix = distance_matrix_to_full(dm)  # แปลง DistanceMatrix เป็นเมทริกซ์เต็ม\n",
        "\n",
        "# คำนวณ similarity matrix โดยใช้สูตร similarity = 1 - distance\n",
        "# ซึ่งหมายถึงสัดส่วนของตำแหน่งที่เหมือนกันในการจัดเรียงลำดับ (alignment)\n",
        "similarity_matrix = 1 - distance_matrix\n",
        "\n",
        "# หา index ของ EGFP ในรายชื่อโปรตีน\n",
        "idx_egfp = names.index(\"EGFP\")\n",
        "\n",
        "# ดึงแถว similarity ของ EGFP กับโปรตีนทุกตัวออกมา\n",
        "sim_to_egfp = similarity_matrix[idx_egfp]\n",
        "\n",
        "# แสดงเปอร์เซ็นต์ similarity ระหว่าง EGFP กับโปรตีนแต่ละตัว\n",
        "for name, sim in zip(names, sim_to_egfp):\n",
        "    print(f\"{name} similarity to EGFP: {sim*100:.2f}%\")\n",
        "\n",
        "# เรียงลำดับโปรตีนที่มี similarity สูงที่สุดกับ EGFP โดยไม่รวม EGFP เอง\n",
        "sorted_sim = sorted(\n",
        "    [(name, sim) for name, sim in zip(names, sim_to_egfp) if name != \"EGFP\"],\n",
        "    key=lambda x: x[1],\n",
        "    reverse=True\n",
        ")\n",
        "\n",
        "print(\"\\nTop closest proteins to EGFP:\")\n",
        "for name, sim in sorted_sim:\n",
        "    print(f\"{name}: {sim*100:.2f}% similarity\")\n"
      ],
      "metadata": {
        "id": "tdnMsnFTzKgj",
        "outputId": "2ddcf55e-5456-4c8c-8a43-26462e4e4e79",
        "colab": {
          "base_uri": "https://localhost:8080/"
        }
      },
      "execution_count": 27,
      "outputs": [
        {
          "output_type": "stream",
          "name": "stdout",
          "text": [
            "EGFP similarity to EGFP: 100.00%\n",
            "EYFP similarity to EGFP: 98.76%\n",
            "Venus similarity to EGFP: 98.76%\n",
            "YPet similarity to EGFP: 98.76%\n",
            "phiYFP similarity to EGFP: 87.55%\n",
            "\n",
            "Top closest proteins to EGFP:\n",
            "EYFP: 98.76% similarity\n",
            "Venus: 98.76% similarity\n",
            "YPet: 98.76% similarity\n",
            "phiYFP: 87.55% similarity\n"
          ]
        }
      ]
    }
  ]
}